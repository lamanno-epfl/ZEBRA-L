{
 "cells": [
  {
   "cell_type": "code",
   "execution_count": 346,
   "id": "69b41ad2-cda6-44c1-8147-713a57984824",
   "metadata": {},
   "outputs": [
    {
     "ename": "IndexError",
     "evalue": "list index out of range",
     "output_type": "error",
     "traceback": [
      "\u001b[0;31m---------------------------------------------------------------------------\u001b[0m",
      "\u001b[0;31mIndexError\u001b[0m                                Traceback (most recent call last)",
      "Cell \u001b[0;32mIn[346], line 7\u001b[0m\n\u001b[1;32m      5\u001b[0m \u001b[38;5;28;01mimport\u001b[39;00m \u001b[38;5;21;01mos\u001b[39;00m\n\u001b[1;32m      6\u001b[0m mz_list \u001b[38;5;241m=\u001b[39m os\u001b[38;5;241m.\u001b[39mlistdir(\u001b[38;5;124m'\u001b[39m\u001b[38;5;124m../3D_VOLUMES/8_processed_volumes_nopr/\u001b[39m\u001b[38;5;124m'\u001b[39m)\n\u001b[0;32m----> 7\u001b[0m mz \u001b[38;5;241m=\u001b[39m \u001b[43mmz_list\u001b[49m\u001b[43m[\u001b[49m\u001b[38;5;241;43m153\u001b[39;49m\u001b[43m]\u001b[49m\n\u001b[1;32m      8\u001b[0m \u001b[38;5;66;03m# surface = np.load('../alignment_zebrafish/mesh_72.npy', allow_pickle=True)[()]\u001b[39;00m\n\u001b[1;32m      9\u001b[0m surface \u001b[38;5;241m=\u001b[39m np\u001b[38;5;241m.\u001b[39mload(\u001b[38;5;124m'\u001b[39m\u001b[38;5;124m../3D_VOLUMES/mesh_8.npy\u001b[39m\u001b[38;5;124m'\u001b[39m, allow_pickle\u001b[38;5;241m=\u001b[39m\u001b[38;5;28;01mTrue\u001b[39;00m)[()]\n",
      "\u001b[0;31mIndexError\u001b[0m: list index out of range"
     ]
    }
   ],
   "source": [
    "import k3d\n",
    "import numpy as np\n",
    "from k3d import matplotlib_color_maps\n",
    "import matplotlib.pyplot as plt\n",
    "import os\n",
    "mz_list = os.listdir('../3D_VOLUMES/8_processed_volumes_nopr/')\n",
    "mz = mz_list[153]\n",
    "# surface = np.load('../alignment_zebrafish/mesh_72.npy', allow_pickle=True)[()]\n",
    "surface = np.load('../3D_VOLUMES/mesh_8.npy', allow_pickle=True)[()]\n",
    "volume = np.load(f'../3D_VOLUMES/8_processed_volumes_nopr/{mz}')\n",
    "volume_axis = np.moveaxis(volume, 1, 0) #, 2_0, 2_1, \n",
    "\n",
    "surface['vertices'][:,0] = surface['vertices'][:,0] + 0\n",
    "surface['vertices'][:,1] = surface['vertices'][:,1] + 40\n",
    "surface['vertices'][:,2] = surface['vertices'][:,2] - 10\n",
    "\n",
    "volume = np.nan_to_num(volume).astype(np.float32)\n",
    "\n",
    "\n",
    "plot = k3d.plot(grid_visible=False,\n",
    "                camera_auto_fit=False,\n",
    "                camera_fov=30,\n",
    "                camera_no_pan=True,\n",
    "                menu_visibility=False,\n",
    "                colorbar_object_id=4,\n",
    "                lighting=2.)\n",
    "\n",
    "plot += k3d.volume(volume_axis, scaling=[3.3, 0.5, 1.3],\n",
    "                   color_map=[[0, 1, 1, 1], # white\n",
    "                              [0.2,0.52941176, 0.80784314, 0.98039216], # light blue (135,206,250)\n",
    "                              # [0.2,0.39215686, 0.58431373, 0.929], # blue (100,149,237)\n",
    "                              [0.5,0.25490196, 0.41176471, 0.88], # dark blue (65,105,225)\n",
    "                              [0.7,0.57647059, 0.43921569, 0.85882], # purple (147,112,219)\n",
    "                              [0.8,0.29411765, 0.        , 0.509803]\n",
    "                             ], # dark purple (75,0,130)\n",
    "                   opacity_function=[\n",
    "                       [0, 0],\n",
    "                       [0.2,0.0],\n",
    "                       [0.4, 0.2],\n",
    "                       [0.5,0.9],\n",
    "                       [1., 0.9]\n",
    "                   ],\n",
    "                   bounds=[0, 100, 0, 100, 0, 100])\n",
    "\n",
    "plot += k3d.mesh(surface['vertices']/140 - 0.6, surface['triangles'],\n",
    "                 opacity=0.005, wireframe=True, color=0x0002, bounds=[0, 100, 0, 100, 0, 100])\n",
    "\n",
    "\n",
    "plot.display()\n",
    "\n",
    "plot.camera= [-50, -600.0, 0.0, # zoom\n",
    "              200.0, 140.0, 63.0, \n",
    "              0.0, .0, -20.0]"
   ]
  },
  {
   "cell_type": "code",
   "execution_count": 345,
   "id": "a993bc55-72b1-44f3-ad63-7eae16dc3577",
   "metadata": {},
   "outputs": [],
   "source": [
    "with open(f\"data_html/8hpf/{mz.split('.npy')[0].replace('.','_')}.html\",'w') as fp:\n",
    "    fp.write(plot.get_snapshot())\n"
   ]
  },
  {
   "cell_type": "code",
   "execution_count": 95,
   "id": "a6071412-2326-4154-a9eb-02c9c10421a5",
   "metadata": {},
   "outputs": [
    {
     "data": {
      "text/plain": [
       "'data_html/8hpf/803_512.html'"
      ]
     },
     "execution_count": 95,
     "metadata": {},
     "output_type": "execute_result"
    }
   ],
   "source": [
    "f\"data_html/8hpf/{mz.split('.npy')[0].replace('.','_')}.html\""
   ]
  },
  {
   "cell_type": "code",
   "execution_count": 221,
   "id": "51813677-393d-4f45-b8e2-4174481baeab",
   "metadata": {},
   "outputs": [],
   "source": [
    "# import json\n",
    "# with open(\"test_plot.json\", \"w\") as f:\n",
    "#     json.dump(plot.get_snapshot(), f)"
   ]
  },
  {
   "cell_type": "code",
   "execution_count": null,
   "id": "729a3f7f-181d-47b5-9c5b-159a7719e2e9",
   "metadata": {},
   "outputs": [],
   "source": []
  }
 ],
 "metadata": {
  "kernelspec": {
   "display_name": "Python 3 (ipykernel)",
   "language": "python",
   "name": "python3"
  },
  "language_info": {
   "codemirror_mode": {
    "name": "ipython",
    "version": 3
   },
   "file_extension": ".py",
   "mimetype": "text/x-python",
   "name": "python",
   "nbconvert_exporter": "python",
   "pygments_lexer": "ipython3",
   "version": "3.9.16"
  }
 },
 "nbformat": 4,
 "nbformat_minor": 5
}
