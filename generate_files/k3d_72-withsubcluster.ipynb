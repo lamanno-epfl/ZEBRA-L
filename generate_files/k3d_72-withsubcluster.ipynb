{
 "cells": [
  {
   "cell_type": "code",
   "execution_count": 41,
   "id": "d4102fe0-f702-4508-bac2-8f0c5ab02588",
   "metadata": {},
   "outputs": [],
   "source": [
    "import k3d\n",
    "import numpy as np\n",
    "from k3d import matplotlib_color_maps\n",
    "import matplotlib.pyplot as plt\n",
    "import os\n",
    "from scipy.ndimage import gaussian_filter\n",
    "mz_list = os.listdir('../3D_VOLUMES/72_processed_volumes_nopr/')\n",
    "mz = mz_list[226]\n",
    "# surface = np.load('../alignment_zebrafish/mesh_72.npy', allow_pickle=True)[()]\n",
    "volume = np.load(f'../3D_VOLUMES/72_processed_volumes_nopr/{mz}')\n",
    "\n",
    "\n",
    "volume = np.nan_to_num(volume)\n",
    "volume = gaussian_filter(volume, 0.5)\n",
    "volume_axis = np.moveaxis(volume, 1, 0) #, 2_0, 2_1, \n",
    "\n",
    "\n",
    "\n",
    "\n",
    "\n",
    "def process_surface(surface, shifts=[65,18, 23]):\n",
    "    surface['vertices'][:,0] = surface['vertices'][:,0] +shifts[0]\n",
    "    surface['vertices'][:,1] = surface['vertices'][:,1] + shifts[1]\n",
    "    surface['vertices'][:,2] = surface['vertices'][:,2] + shifts[2]\n",
    "    \n",
    "    # Rotation angle in radians (e.g., -90 degrees clockwise)\n",
    "    theta = -0.1 # Negative for clockwise rotation\n",
    "    \n",
    "    # Choose axis of rotation: Here, around Z-axis\n",
    "    rotation_matrix_z = np.array([\n",
    "        [np.cos(theta), 0, np.sin(theta)],\n",
    "        [0,  1, 0],\n",
    "        [-np.sin(theta), 0, np.cos(theta)]\n",
    "    ])\n",
    "    \n",
    "    # Apply rotation\n",
    "    surface['vertices'] = surface['vertices'] @ rotation_matrix_z.T  # Matrix multiplication\n",
    "\n",
    "    return surface\n",
    "\n",
    "surface_mask = np.load('mesh_cluster/mesh_72.npy', allow_pickle=True)[()]\n",
    "surface_sc = np.load('mesh_cluster/mesh_spinalcord.npy', allow_pickle=True)[()]\n",
    "surface_hb = np.load('mesh_cluster/mesh_cavity.npy', allow_pickle=True)[()]\n",
    "surface_sb = np.load('mesh_cluster/mesh_heart.npy', allow_pickle=True)[()]\n",
    "surface_noto = np.load('mesh_cluster/mesh_noto.npy', allow_pickle=True)[()]\n",
    "surface_b1 = np.load('mesh_cluster/mesh_head_upper.npy', allow_pickle=True)[()]\n",
    "surface_b2 = np.load('mesh_cluster/mesh_head.npy', allow_pickle=True)[()]\n",
    "surface_b2 = np.load('mesh_cluster/mesh_neck.npy', allow_pickle=True)[()]\n",
    "\n",
    "surface_mask = process_surface(surface_mask)\n",
    "surface_sc = process_surface(surface_sc, shifts=[65,33,23])\n",
    "surface_hb = process_surface(surface_hb, shifts=[65,32,23])\n",
    "surface_sb = process_surface(surface_sb, shifts=[65,32,23])\n",
    "surface_noto = process_surface(surface_noto, shifts=[65,32,23])\n",
    "surface_b1 = process_surface(surface_b1, shifts=[65,32,23])\n",
    "surface_b2 = process_surface(surface_b2, shifts=[65,32,23])"
   ]
  },
  {
   "cell_type": "code",
   "execution_count": 43,
   "id": "69b41ad2-cda6-44c1-8147-713a57984824",
   "metadata": {},
   "outputs": [
    {
     "name": "stderr",
     "output_type": "stream",
     "text": [
      "/opt/anaconda3/envs/napari/lib/python3.9/site-packages/traittypes/traittypes.py:97: UserWarning: Given trait value dtype \"float64\" does not match required type \"float32\". A coerced copy has been created.\n",
      "  warnings.warn(\n",
      "/opt/anaconda3/envs/napari/lib/python3.9/site-packages/traittypes/traittypes.py:97: UserWarning: Given trait value dtype \"uint64\" does not match required type \"uint32\". A coerced copy has been created.\n",
      "  warnings.warn(\n"
     ]
    },
    {
     "data": {
      "application/vnd.jupyter.widget-view+json": {
       "model_id": "a57944aa9c054110ae0c6a4a550dfe0a",
       "version_major": 2,
       "version_minor": 0
      },
      "text/plain": [
       "Output()"
      ]
     },
     "metadata": {},
     "output_type": "display_data"
    }
   ],
   "source": [
    "plot = k3d.plot(grid_visible=False,\n",
    "                camera_auto_fit=False,\n",
    "                camera_fov=30,\n",
    "                camera_no_pan=True,\n",
    "                menu_visibility=False,\n",
    "                colorbar_object_id=4,\n",
    "                lighting=2.)\n",
    "\n",
    "plot += k3d.volume(volume_axis, scaling=[3.5, 0.5, 1.3],\n",
    "                   color_map=[[0, 1, 1, 1], # white\n",
    "                              [0.1,0.52941176, 0.80784314, 0.98039216], # light blue (135,206,250)\n",
    "                              [0.15,0.39215686, 0.58431373, 0.929], # blue (100,149,237)\n",
    "                              [0.2,0.25490196, 0.41176471, 0.88], # dark blue (65,105,225)\n",
    "                              [0.3,0.57647059, 0.43921569, 0.85882], # purple (147,112,219)\n",
    "                              [0.7,0.29411765, 0.        , 0.509803]], # dark purple (75,0,130)\n",
    "                   opacity_function=[\n",
    "                       [0, 0],\n",
    "                       [0.2,0.1],\n",
    "                       # [0.3, 0.1],\n",
    "                       # [0.4,0.1],\n",
    "                       [0.4,0.1],\n",
    "                       [0.8, 0.9]\n",
    "                   ],\n",
    "                   bounds=[0, 100, 0, 100, 0, 100])\n",
    "\n",
    "# mask mesh\n",
    "plot += k3d.mesh(surface_mask['vertices']/130 - 0.6, surface_mask['triangles'],\n",
    "                 opacity=0.005, wireframe=True, color=0x0002, bounds=[0, 100, 0, 100, 0, 100])\n",
    "\n",
    "plot += k3d.mesh(surface_mask['vertices']/400 - 0.6, surface_mask['triangles'],\n",
    "                 opacity=0.003, wireframe=True, color=0x0002, bounds=[0, 100, 0, 100, 0, 100])\n",
    "\n",
    "# subclusters\n",
    "plot += k3d.mesh(surface_hb['vertices']/400 - 0.6, surface_hb['triangles'],\n",
    "                 opacity=0.01, wireframe=True,color=0xa93226, bounds=[0, 100, 0, 400, 0, 100])\n",
    "plot += k3d.mesh(surface_sc['vertices']/400 - 0.6, surface_sc['triangles'],\n",
    "                 opacity=0.01, wireframe=True, color=0xfcf3cf, bounds=[0, 100, 0, 400, 0, 100])\n",
    "plot += k3d.mesh(surface_sb['vertices']/400 - 0.6, surface_sb['triangles'],\n",
    "                 opacity=0.01, wireframe=True, color=0x2471a3  , bounds=[0, 100, 0, 400, 0, 100])\n",
    "plot += k3d.mesh(surface_noto['vertices']/400 - 0.6, surface_noto['triangles'],\n",
    "                 opacity=0.01, wireframe=True, color=0x85c1e9  , bounds=[0, 100, 0, 400, 0, 100])\n",
    "# plot += k3d.mesh(surface_b1['vertices']/400 - 0.6, surface_b1['triangles'],\n",
    "                 # opacity=0.01, wireframe=True, color=0xba4a00, bounds=[0, 100, 0, 400, 0, 100])\n",
    "plot += k3d.mesh(surface_b2['vertices']/400 - 0.6, surface_b2['triangles'],\n",
    "                 opacity=0.01, wireframe=True, color=0xba4a00, bounds=[0, 100, 0, 400, 0, 100])\n",
    "\n",
    "\n",
    "\n",
    "plot.display()\n",
    "\n",
    "plot.camera= [-0, -600.0, -80.0,\n",
    "              120.0, 20.0, 23.0, \n",
    "              0.0, 5.0, -19.0]"
   ]
  },
  {
   "cell_type": "code",
   "execution_count": 1006,
   "id": "a993bc55-72b1-44f3-ad63-7eae16dc3577",
   "metadata": {},
   "outputs": [],
   "source": [
    "with open(f\"data_html/72hpf/{mz.split('.npy')[0].replace('.','_')}.html\",'w') as fp:\n",
    "    fp.write(plot.get_snapshot())\n"
   ]
  },
  {
   "cell_type": "code",
   "execution_count": 221,
   "id": "51813677-393d-4f45-b8e2-4174481baeab",
   "metadata": {},
   "outputs": [],
   "source": [
    "# import json\n",
    "# with open(\"test_plot.json\", \"w\") as f:\n",
    "#     json.dump(plot.get_snapshot(), f)"
   ]
  },
  {
   "cell_type": "code",
   "execution_count": 72,
   "id": "729a3f7f-181d-47b5-9c5b-159a7719e2e9",
   "metadata": {},
   "outputs": [
    {
     "data": {
      "text/plain": [
       "<module 'k3d.colormaps' from '/opt/anaconda3/envs/napari/lib/python3.9/site-packages/k3d/colormaps/__init__.py'>"
      ]
     },
     "execution_count": 72,
     "metadata": {},
     "output_type": "execute_result"
    }
   ],
   "source": [
    "k3d.colormaps"
   ]
  },
  {
   "cell_type": "code",
   "execution_count": null,
   "id": "5a1caf57-6466-4fb3-adbf-72a768b42333",
   "metadata": {},
   "outputs": [],
   "source": []
  }
 ],
 "metadata": {
  "kernelspec": {
   "display_name": "Python 3 (ipykernel)",
   "language": "python",
   "name": "python3"
  },
  "language_info": {
   "codemirror_mode": {
    "name": "ipython",
    "version": 3
   },
   "file_extension": ".py",
   "mimetype": "text/x-python",
   "name": "python",
   "nbconvert_exporter": "python",
   "pygments_lexer": "ipython3",
   "version": "3.9.16"
  }
 },
 "nbformat": 4,
 "nbformat_minor": 5
}
