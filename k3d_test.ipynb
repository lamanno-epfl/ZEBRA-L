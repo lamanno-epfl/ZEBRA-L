{
 "cells": [
  {
   "cell_type": "code",
   "execution_count": 38,
   "id": "d4102fe0-f702-4508-bac2-8f0c5ab02588",
   "metadata": {},
   "outputs": [],
   "source": [
    "import k3d\n",
    "import numpy as np\n",
    "from k3d import matplotlib_color_maps\n",
    "import matplotlib.pyplot as plt"
   ]
  },
  {
   "cell_type": "code",
   "execution_count": 116,
   "id": "09ecbd5a-fb48-4343-b4ae-d4b5dd93cfd5",
   "metadata": {},
   "outputs": [],
   "source": [
    "surface = np.load('../alignment_zebrafish/mesh_72.npy', allow_pickle=True)[()]\n",
    "volume = np.load('../ZEBRA-L/data/72/757_554.npy')\n",
    "volume_axis = np.moveaxis(volume, 1, 0) #, 2_0, 2_1, \n",
    "\n"
   ]
  },
  {
   "cell_type": "code",
   "execution_count": 371,
   "id": "69b41ad2-cda6-44c1-8147-713a57984824",
   "metadata": {},
   "outputs": [
    {
     "data": {
      "application/vnd.jupyter.widget-view+json": {
       "model_id": "2c82417ca66547acaaa1ef034a1a1294",
       "version_major": 2,
       "version_minor": 0
      },
      "text/plain": [
       "Output()"
      ]
     },
     "metadata": {},
     "output_type": "display_data"
    }
   ],
   "source": [
    "plot = k3d.plot(grid_visible=False,\n",
    "                camera_auto_fit=False,\n",
    "                camera_fov=30,\n",
    "                camera_no_pan=True,\n",
    "                menu_visibility=False,\n",
    "                colorbar_object_id=4,\n",
    "                lighting=2.)\n",
    "\n",
    "plot += k3d.volume(volume_axis, scaling=[4.3, 0.5, 1.3],\n",
    "                   color_map=[[0, 1, 1, 1], # white\n",
    "                              [0.2,0.52941176, 0.80784314, 0.98039216], # light blue (135,206,250)\n",
    "                              # [0.2,0.39215686, 0.58431373, 0.929], # blue (100,149,237)\n",
    "                              [0.3,0.25490196, 0.41176471, 0.88], # dark blue (65,105,225)\n",
    "                              [0.4,0.57647059, 0.43921569, 0.85882], # purple (147,112,219)\n",
    "                              [0.9,0.29411765, 0.        , 0.509803]], # dark purple (75,0,130)\n",
    "                   opacity_function=[\n",
    "                       [0, 0],\n",
    "                       [0.1,0.0],\n",
    "                       [0.4, 0.2],\n",
    "                       [0.8,0.4],\n",
    "                       [1., 0.9]\n",
    "                   ],\n",
    "                   bounds=[0, 100, 0, 100, 0, 100])\n",
    "\n",
    "plot += k3d.mesh(surface['vertices']/100 - 0.5, surface['triangles'],\n",
    "                 opacity=0.005, wireframe=True, color=0x0002, bounds=[0, 100, 0, 100, 0, 100])\n",
    "\n",
    "\n",
    "plot.display()\n",
    "\n",
    "plot.camera= [-140, -900.0, -50.0,\n",
    "              90.0, 100.0, 23.0, \n",
    "              0.0, 5.0, -19.0]"
   ]
  },
  {
   "cell_type": "code",
   "execution_count": 372,
   "id": "a993bc55-72b1-44f3-ad63-7eae16dc3577",
   "metadata": {},
   "outputs": [],
   "source": [
    "with open('test_plot.html','w') as fp:\n",
    "    fp.write(plot.get_snapshot())\n"
   ]
  },
  {
   "cell_type": "code",
   "execution_count": 221,
   "id": "51813677-393d-4f45-b8e2-4174481baeab",
   "metadata": {},
   "outputs": [],
   "source": [
    "# import json\n",
    "# with open(\"test_plot.json\", \"w\") as f:\n",
    "#     json.dump(plot.get_snapshot(), f)"
   ]
  },
  {
   "cell_type": "code",
   "execution_count": null,
   "id": "729a3f7f-181d-47b5-9c5b-159a7719e2e9",
   "metadata": {},
   "outputs": [],
   "source": []
  }
 ],
 "metadata": {
  "kernelspec": {
   "display_name": "Python 3 (ipykernel)",
   "language": "python",
   "name": "python3"
  },
  "language_info": {
   "codemirror_mode": {
    "name": "ipython",
    "version": 3
   },
   "file_extension": ".py",
   "mimetype": "text/x-python",
   "name": "python",
   "nbconvert_exporter": "python",
   "pygments_lexer": "ipython3",
   "version": "3.9.16"
  }
 },
 "nbformat": 4,
 "nbformat_minor": 5
}
